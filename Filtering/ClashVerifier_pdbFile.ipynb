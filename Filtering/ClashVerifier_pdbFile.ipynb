{
 "cells": [
  {
   "cell_type": "code",
   "execution_count": 15,
   "id": "9d612389",
   "metadata": {},
   "outputs": [],
   "source": [
    "import math\n",
    "\n",
    "# Dictionary of Van der Waals radii in Angstroms for common CHONPS atoms\n",
    "van_der_waals_radii = {\n",
    "    'H': 1.2,  # Hydrogen\n",
    "    'C': 1.7,  # Carbon\n",
    "    'N': 1.55,  # Nitrogen\n",
    "    'O': 1.52,  # Oxygen\n",
    "    'S': 1.8,   # Sulfur\n",
    "    'P': 1.8    # Phosphorus (in phosphate groups)\n",
    "}\n",
    "\n",
    "#### Same as stateAnalysis_tools for eventual functions merge\n",
    "def parse_pdb(file_path):\n",
    "    with open(file_path, 'r') as file:\n",
    "        lines = file.readlines()\n",
    "    return lines\n",
    "\n",
    "def get_atom_coordinates(lines):\n",
    "    atoms = []\n",
    "    for line in lines:\n",
    "        if line.startswith('ATOM') or line.startswith('HETATM'):\n",
    "            try:\n",
    "                atom_name = line[12:16].strip()[0]  # First letter represents element (H, C, N, O, S, P, etc.)\n",
    "                x = float(line[30:38].strip())\n",
    "                y = float(line[38:46].strip())\n",
    "                z = float(line[46:54].strip())\n",
    "                atoms.append((atom_name, x, y, z))\n",
    "            except ValueError:\n",
    "                print(f\"Error parsing line: {line}\")\n",
    "    return atoms\n",
    "\n",
    "def calculate_distance(atom1, atom2):\n",
    "    _, x1, y1, z1 = atom1\n",
    "    _, x2, y2, z2 = atom2\n",
    "    return math.sqrt((x2 - x1)**2 + (y2 - y1)**2 + (z2 - z1)**2)\n",
    "################################\n",
    "\n",
    "# New stuff:\n",
    "def check_clashes(atoms, tolerance_percentage=0):\n",
    "    clashes = []\n",
    "    tolerance_factor = 1 + (tolerance_percentage / 100.0)  # Adjust Van der Waals radii based on tolerance\n",
    "\n",
    "    for i, atom1 in enumerate(atoms):\n",
    "        for j, atom2 in enumerate(atoms):\n",
    "            if i != j:\n",
    "                dist = calculate_distance(atom1, atom2)\n",
    "                # Adjust Van der Waals radii based on tolerance\n",
    "                atom1_name, atom2_name = atom1[0], atom2[0]\n",
    "                radius1 = van_der_waals_radii.get(atom1_name, 1.7) * tolerance_factor  # Default to 1.7 for unknown atoms\n",
    "                radius2 = van_der_waals_radii.get(atom2_name, 1.7) * tolerance_factor\n",
    "\n",
    "                if dist < radius1 + radius2:\n",
    "                    clashes.append((atom1, atom2, dist))\n",
    "    return clashes\n",
    "\n"
   ]
  },
  {
   "cell_type": "code",
   "execution_count": 16,
   "id": "fad203b7",
   "metadata": {},
   "outputs": [
    {
     "name": "stdout",
     "output_type": "stream",
     "text": [
      "Model 1 (file 1) clashes with -50% tolerance: 27562\n",
      "Model 2 (file 2) clashes with -50% tolerance: 24410\n"
     ]
    }
   ],
   "source": [
    "# Example usage with a tolerance of -10% (less strict) and +10% (more strict)\n",
    "file_path_1 = '/Users/adrianahernandezgonzalez/LabNotebook/10-24/states/partialAlphaCaV12HS8HLPlocalrun_b3702_8_16_10/pdb/model_1_ptm_r0_seed2.pdb'\n",
    "file_path_2 = '/Users/adrianahernandezgonzalez/LabNotebook/10-24/states/partialAlphaCaV12HS8HLPlocalrun_b3702_256_512_10/pdb/model_5_ptm_r12_seed0.pdb'\n",
    "\n",
    "tolerance = -50  # Adjust this value for stricter or looser clash detection (-10 for looser, +10 for stricter)\n",
    "lines_1 = parse_pdb(file_path_1)\n",
    "lines_2 = parse_pdb(file_path_2)\n",
    "\n",
    "atoms_1 = get_atom_coordinates(lines_1)\n",
    "atoms_2 = get_atom_coordinates(lines_2)\n",
    "\n",
    "clashes_1 = check_clashes(atoms_1, tolerance_percentage=tolerance)\n",
    "clashes_2 = check_clashes(atoms_2, tolerance_percentage=tolerance)\n",
    "\n",
    "# Report clashes for each model\n",
    "print(f\"Model 1 (file 1) clashes with {tolerance}% tolerance: {len(clashes_1)}\")\n",
    "print(f\"Model 2 (file 2) clashes with {tolerance}% tolerance: {len(clashes_2)}\")\n"
   ]
  },
  {
   "cell_type": "code",
   "execution_count": null,
   "id": "d2c4c16f",
   "metadata": {},
   "outputs": [],
   "source": []
  },
  {
   "cell_type": "code",
   "execution_count": null,
   "id": "413ab00d",
   "metadata": {},
   "outputs": [],
   "source": []
  }
 ],
 "metadata": {
  "kernelspec": {
   "display_name": "Python 3 (ipykernel)",
   "language": "python",
   "name": "python3"
  },
  "language_info": {
   "codemirror_mode": {
    "name": "ipython",
    "version": 3
   },
   "file_extension": ".py",
   "mimetype": "text/x-python",
   "name": "python",
   "nbconvert_exporter": "python",
   "pygments_lexer": "ipython3",
   "version": "3.10.9"
  }
 },
 "nbformat": 4,
 "nbformat_minor": 5
}
