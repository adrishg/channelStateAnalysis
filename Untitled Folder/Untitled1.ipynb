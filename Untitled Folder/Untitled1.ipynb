{
 "cells": [
  {
   "cell_type": "code",
   "execution_count": 6,
   "id": "896627b7",
   "metadata": {},
   "outputs": [
    {
     "name": "stdout",
     "output_type": "stream",
     "text": [
      "                    pdb_file  shortest_ARG126-GLU52  shortest_ARG126-PHE59  \\\n",
      "0   model_2_ptm_r3_seed1.pdb                    5.0                   15.0   \n",
      "1   model_3_ptm_r4_seed7.pdb                    4.4                   15.2   \n",
      "2   model_4_ptm_r1_seed6.pdb                    5.0                   15.8   \n",
      "3   model_5_ptm_r6_seed0.pdb                    3.5                   14.4   \n",
      "4  model_5_ptm_r11_seed2.pdb                    3.5                   14.5   \n",
      "\n",
      "   shortest_ARG126-GLU62  shortest_ARG129-GLU52  shortest_ARG129-PHE59  \\\n",
      "0                   19.2                    0.9                    9.3   \n",
      "1                   19.4                    3.8                   10.0   \n",
      "2                   20.5                    4.4                    9.5   \n",
      "3                   18.8                    5.3                    8.9   \n",
      "4                   18.9                    5.2                    9.4   \n",
      "\n",
      "   shortest_ARG129-GLU62  shortest_ARG132-GLU52  shortest_ARG132-PHE59  \\\n",
      "0                   14.1                    7.1                    3.3   \n",
      "1                   13.9                    8.6                    3.3   \n",
      "2                   13.6                    9.3                    2.9   \n",
      "3                   12.6                   10.1                    2.9   \n",
      "4                   13.1                    9.3                    3.1   \n",
      "\n",
      "   shortest_ARG132-GLU62  ...  CA_GLU252_CA-GLU1024_CA  \\\n",
      "0                    7.4  ...                    10.65   \n",
      "1                    7.8  ...                    10.09   \n",
      "2                    7.2  ...                    10.41   \n",
      "3                    5.9  ...                    10.53   \n",
      "4                    6.9  ...                    10.44   \n",
      "\n",
      "   CA_GLU252_CA-GLU1353_CA  CA_GLU595_CA-GLU1024_CA  CA_GLU595_CA-GLU1353_CA  \\\n",
      "0                     7.28                     6.59                     9.62   \n",
      "1                     6.70                     6.35                     9.23   \n",
      "2                     7.12                     6.56                     9.54   \n",
      "3                     6.93                     6.45                     9.44   \n",
      "4                     6.92                     6.48                     9.43   \n",
      "\n",
      "   CA_GLU1024_CA-GLU1353_CA  CA_LEU290_CA-LEU638_CA  CA_LEU290_CA-VAL1071_CA  \\\n",
      "0                      7.45                    9.05                    12.39   \n",
      "1                      7.12                    8.59                    11.53   \n",
      "2                      7.19                    8.44                    11.79   \n",
      "3                      7.36                    9.14                    11.50   \n",
      "4                      7.30                    8.87                    11.81   \n",
      "\n",
      "   CA_LEU290_CA-ILE1401_CA  CA_LEU638_CA-VAL1071_CA  CA_VAL1071_CA-ILE1401_CA  \n",
      "0                    15.63                     8.43                     11.00  \n",
      "1                    17.06                     8.82                      9.94  \n",
      "2                    16.33                     8.22                     10.42  \n",
      "3                    15.06                     8.85                     10.70  \n",
      "4                    14.88                     8.97                     10.35  \n",
      "\n",
      "[5 rows x 171 columns]\n"
     ]
    }
   ],
   "source": [
    "import pandas as pd\n",
    "\n",
    "# Load the CSV file into a DataFrame\n",
    "csv_file = '../10-10-2024_combined_distances_vanilla_256_512.csv'\n",
    "df = pd.read_csv(csv_file)\n",
    "\n",
    "# Show the first few rows to confirm the data is loaded correctly\n",
    "print(df.head())\n"
   ]
  },
  {
   "cell_type": "code",
   "execution_count": 5,
   "id": "eda3d126",
   "metadata": {},
   "outputs": [
    {
     "name": "stdout",
     "output_type": "stream",
     "text": [
      "Error: Column 'shortest_GLU252-GLU595' not found in the DataFrame.\n",
      "Error: Column 'shortest_GLU252-GLU1024' not found in the DataFrame.\n",
      "Error: Column 'shortest_GLU252-GLU1353' not found in the DataFrame.\n",
      "Error: Column 'shortest_GLU595-GLU1024' not found in the DataFrame.\n",
      "Error: Column 'shortest_GLU595-GLU1353' not found in the DataFrame.\n",
      "Error: Column 'shortest_GLU1024-GLU1353' not found in the DataFrame.\n"
     ]
    },
    {
     "ename": "ValueError",
     "evalue": "min() arg is an empty sequence",
     "output_type": "error",
     "traceback": [
      "\u001b[0;31m---------------------------------------------------------------------------\u001b[0m",
      "\u001b[0;31mValueError\u001b[0m                                Traceback (most recent call last)",
      "Cell \u001b[0;32mIn[5], line 65\u001b[0m\n\u001b[1;32m     55\u001b[0m alias_dict \u001b[38;5;241m=\u001b[39m {\n\u001b[1;32m     56\u001b[0m     \u001b[38;5;124m'\u001b[39m\u001b[38;5;124mDistancia (GLU252-GLU595)\u001b[39m\u001b[38;5;124m'\u001b[39m: \u001b[38;5;124m'\u001b[39m\u001b[38;5;124mshortest_GLU252-GLU595\u001b[39m\u001b[38;5;124m'\u001b[39m,\n\u001b[1;32m     57\u001b[0m     \u001b[38;5;124m'\u001b[39m\u001b[38;5;124mDistancia (GLU252-GLU1024)\u001b[39m\u001b[38;5;124m'\u001b[39m: \u001b[38;5;124m'\u001b[39m\u001b[38;5;124mshortest_GLU252-GLU1024\u001b[39m\u001b[38;5;124m'\u001b[39m,\n\u001b[0;32m   (...)\u001b[0m\n\u001b[1;32m     61\u001b[0m     \u001b[38;5;124m'\u001b[39m\u001b[38;5;124mDistancia (GLU1024-GLU1353)\u001b[39m\u001b[38;5;124m'\u001b[39m: \u001b[38;5;124m'\u001b[39m\u001b[38;5;124mshortest_GLU1024-GLU1353\u001b[39m\u001b[38;5;124m'\u001b[39m,\n\u001b[1;32m     62\u001b[0m }\n\u001b[1;32m     64\u001b[0m \u001b[38;5;66;03m# Assuming df is already loaded with your CSV file\u001b[39;00m\n\u001b[0;32m---> 65\u001b[0m \u001b[43mplot_distances_by_alias_violin\u001b[49m\u001b[43m(\u001b[49m\u001b[43mdf\u001b[49m\u001b[43m,\u001b[49m\u001b[43m \u001b[49m\u001b[43malias_dict\u001b[49m\u001b[43m)\u001b[49m\n",
      "Cell \u001b[0;32mIn[5], line 43\u001b[0m, in \u001b[0;36mplot_distances_by_alias_violin\u001b[0;34m(df, alias_dict)\u001b[0m\n\u001b[1;32m     41\u001b[0m \u001b[38;5;66;03m# Plot a violin plot for the distances by alias\u001b[39;00m\n\u001b[1;32m     42\u001b[0m plt\u001b[38;5;241m.\u001b[39mfigure(figsize\u001b[38;5;241m=\u001b[39m(\u001b[38;5;241m12\u001b[39m, \u001b[38;5;241m6\u001b[39m))\n\u001b[0;32m---> 43\u001b[0m \u001b[43msns\u001b[49m\u001b[38;5;241;43m.\u001b[39;49m\u001b[43mviolinplot\u001b[49m\u001b[43m(\u001b[49m\u001b[43mx\u001b[49m\u001b[38;5;241;43m=\u001b[39;49m\u001b[38;5;124;43m'\u001b[39;49m\u001b[38;5;124;43mAlias\u001b[39;49m\u001b[38;5;124;43m'\u001b[39;49m\u001b[43m,\u001b[49m\u001b[43m \u001b[49m\u001b[43my\u001b[49m\u001b[38;5;241;43m=\u001b[39;49m\u001b[38;5;124;43m'\u001b[39;49m\u001b[38;5;124;43mDistance\u001b[39;49m\u001b[38;5;124;43m'\u001b[39;49m\u001b[43m,\u001b[49m\u001b[43m \u001b[49m\u001b[43mdata\u001b[49m\u001b[38;5;241;43m=\u001b[39;49m\u001b[43mplot_df\u001b[49m\u001b[43m,\u001b[49m\u001b[43m \u001b[49m\u001b[43minner\u001b[49m\u001b[38;5;241;43m=\u001b[39;49m\u001b[38;5;124;43m'\u001b[39;49m\u001b[38;5;124;43mbox\u001b[39;49m\u001b[38;5;124;43m'\u001b[39;49m\u001b[43m,\u001b[49m\u001b[43m \u001b[49m\u001b[43mcut\u001b[49m\u001b[38;5;241;43m=\u001b[39;49m\u001b[38;5;241;43m0\u001b[39;49m\u001b[43m)\u001b[49m\n\u001b[1;32m     44\u001b[0m plt\u001b[38;5;241m.\u001b[39mtitle(\u001b[38;5;124m'\u001b[39m\u001b[38;5;124mDistribution of Distances in the Selectivity Filter (all)\u001b[39m\u001b[38;5;124m'\u001b[39m)\n\u001b[1;32m     45\u001b[0m plt\u001b[38;5;241m.\u001b[39mxlabel(\u001b[38;5;124m'\u001b[39m\u001b[38;5;124mAlias\u001b[39m\u001b[38;5;124m'\u001b[39m)\n",
      "File \u001b[0;32m~/anaconda3/lib/python3.10/site-packages/seaborn/categorical.py:2305\u001b[0m, in \u001b[0;36mviolinplot\u001b[0;34m(data, x, y, hue, order, hue_order, bw, cut, scale, scale_hue, gridsize, width, inner, split, dodge, orient, linewidth, color, palette, saturation, ax, **kwargs)\u001b[0m\n\u001b[1;32m   2297\u001b[0m \u001b[38;5;28;01mdef\u001b[39;00m \u001b[38;5;21mviolinplot\u001b[39m(\n\u001b[1;32m   2298\u001b[0m     data\u001b[38;5;241m=\u001b[39m\u001b[38;5;28;01mNone\u001b[39;00m, \u001b[38;5;241m*\u001b[39m, x\u001b[38;5;241m=\u001b[39m\u001b[38;5;28;01mNone\u001b[39;00m, y\u001b[38;5;241m=\u001b[39m\u001b[38;5;28;01mNone\u001b[39;00m, hue\u001b[38;5;241m=\u001b[39m\u001b[38;5;28;01mNone\u001b[39;00m, order\u001b[38;5;241m=\u001b[39m\u001b[38;5;28;01mNone\u001b[39;00m, hue_order\u001b[38;5;241m=\u001b[39m\u001b[38;5;28;01mNone\u001b[39;00m,\n\u001b[1;32m   2299\u001b[0m     bw\u001b[38;5;241m=\u001b[39m\u001b[38;5;124m\"\u001b[39m\u001b[38;5;124mscott\u001b[39m\u001b[38;5;124m\"\u001b[39m, cut\u001b[38;5;241m=\u001b[39m\u001b[38;5;241m2\u001b[39m, scale\u001b[38;5;241m=\u001b[39m\u001b[38;5;124m\"\u001b[39m\u001b[38;5;124marea\u001b[39m\u001b[38;5;124m\"\u001b[39m, scale_hue\u001b[38;5;241m=\u001b[39m\u001b[38;5;28;01mTrue\u001b[39;00m, gridsize\u001b[38;5;241m=\u001b[39m\u001b[38;5;241m100\u001b[39m,\n\u001b[0;32m   (...)\u001b[0m\n\u001b[1;32m   2302\u001b[0m     ax\u001b[38;5;241m=\u001b[39m\u001b[38;5;28;01mNone\u001b[39;00m, \u001b[38;5;241m*\u001b[39m\u001b[38;5;241m*\u001b[39mkwargs,\n\u001b[1;32m   2303\u001b[0m ):\n\u001b[0;32m-> 2305\u001b[0m     plotter \u001b[38;5;241m=\u001b[39m \u001b[43m_ViolinPlotter\u001b[49m\u001b[43m(\u001b[49m\u001b[43mx\u001b[49m\u001b[43m,\u001b[49m\u001b[43m \u001b[49m\u001b[43my\u001b[49m\u001b[43m,\u001b[49m\u001b[43m \u001b[49m\u001b[43mhue\u001b[49m\u001b[43m,\u001b[49m\u001b[43m \u001b[49m\u001b[43mdata\u001b[49m\u001b[43m,\u001b[49m\u001b[43m \u001b[49m\u001b[43morder\u001b[49m\u001b[43m,\u001b[49m\u001b[43m \u001b[49m\u001b[43mhue_order\u001b[49m\u001b[43m,\u001b[49m\n\u001b[1;32m   2306\u001b[0m \u001b[43m                             \u001b[49m\u001b[43mbw\u001b[49m\u001b[43m,\u001b[49m\u001b[43m \u001b[49m\u001b[43mcut\u001b[49m\u001b[43m,\u001b[49m\u001b[43m \u001b[49m\u001b[43mscale\u001b[49m\u001b[43m,\u001b[49m\u001b[43m \u001b[49m\u001b[43mscale_hue\u001b[49m\u001b[43m,\u001b[49m\u001b[43m \u001b[49m\u001b[43mgridsize\u001b[49m\u001b[43m,\u001b[49m\n\u001b[1;32m   2307\u001b[0m \u001b[43m                             \u001b[49m\u001b[43mwidth\u001b[49m\u001b[43m,\u001b[49m\u001b[43m \u001b[49m\u001b[43minner\u001b[49m\u001b[43m,\u001b[49m\u001b[43m \u001b[49m\u001b[43msplit\u001b[49m\u001b[43m,\u001b[49m\u001b[43m \u001b[49m\u001b[43mdodge\u001b[49m\u001b[43m,\u001b[49m\u001b[43m \u001b[49m\u001b[43morient\u001b[49m\u001b[43m,\u001b[49m\u001b[43m \u001b[49m\u001b[43mlinewidth\u001b[49m\u001b[43m,\u001b[49m\n\u001b[1;32m   2308\u001b[0m \u001b[43m                             \u001b[49m\u001b[43mcolor\u001b[49m\u001b[43m,\u001b[49m\u001b[43m \u001b[49m\u001b[43mpalette\u001b[49m\u001b[43m,\u001b[49m\u001b[43m \u001b[49m\u001b[43msaturation\u001b[49m\u001b[43m)\u001b[49m\n\u001b[1;32m   2310\u001b[0m     \u001b[38;5;28;01mif\u001b[39;00m ax \u001b[38;5;129;01mis\u001b[39;00m \u001b[38;5;28;01mNone\u001b[39;00m:\n\u001b[1;32m   2311\u001b[0m         ax \u001b[38;5;241m=\u001b[39m plt\u001b[38;5;241m.\u001b[39mgca()\n",
      "File \u001b[0;32m~/anaconda3/lib/python3.10/site-packages/seaborn/categorical.py:902\u001b[0m, in \u001b[0;36m_ViolinPlotter.__init__\u001b[0;34m(self, x, y, hue, data, order, hue_order, bw, cut, scale, scale_hue, gridsize, width, inner, split, dodge, orient, linewidth, color, palette, saturation)\u001b[0m\n\u001b[1;32m    896\u001b[0m \u001b[38;5;28;01mdef\u001b[39;00m \u001b[38;5;21m__init__\u001b[39m(\u001b[38;5;28mself\u001b[39m, x, y, hue, data, order, hue_order,\n\u001b[1;32m    897\u001b[0m              bw, cut, scale, scale_hue, gridsize,\n\u001b[1;32m    898\u001b[0m              width, inner, split, dodge, orient, linewidth,\n\u001b[1;32m    899\u001b[0m              color, palette, saturation):\n\u001b[1;32m    901\u001b[0m     \u001b[38;5;28mself\u001b[39m\u001b[38;5;241m.\u001b[39mestablish_variables(x, y, hue, data, orient, order, hue_order)\n\u001b[0;32m--> 902\u001b[0m     \u001b[38;5;28;43mself\u001b[39;49m\u001b[38;5;241;43m.\u001b[39;49m\u001b[43mestablish_colors\u001b[49m\u001b[43m(\u001b[49m\u001b[43mcolor\u001b[49m\u001b[43m,\u001b[49m\u001b[43m \u001b[49m\u001b[43mpalette\u001b[49m\u001b[43m,\u001b[49m\u001b[43m \u001b[49m\u001b[43msaturation\u001b[49m\u001b[43m)\u001b[49m\n\u001b[1;32m    903\u001b[0m     \u001b[38;5;28mself\u001b[39m\u001b[38;5;241m.\u001b[39mestimate_densities(bw, cut, scale, scale_hue, gridsize)\n\u001b[1;32m    905\u001b[0m     \u001b[38;5;28mself\u001b[39m\u001b[38;5;241m.\u001b[39mgridsize \u001b[38;5;241m=\u001b[39m gridsize\n",
      "File \u001b[0;32m~/anaconda3/lib/python3.10/site-packages/seaborn/categorical.py:707\u001b[0m, in \u001b[0;36m_CategoricalPlotter.establish_colors\u001b[0;34m(self, color, palette, saturation)\u001b[0m\n\u001b[1;32m    705\u001b[0m \u001b[38;5;66;03m# Determine the gray color to use for the lines framing the plot\u001b[39;00m\n\u001b[1;32m    706\u001b[0m light_vals \u001b[38;5;241m=\u001b[39m [rgb_to_hls(\u001b[38;5;241m*\u001b[39mc)[\u001b[38;5;241m1\u001b[39m] \u001b[38;5;28;01mfor\u001b[39;00m c \u001b[38;5;129;01min\u001b[39;00m rgb_colors]\n\u001b[0;32m--> 707\u001b[0m lum \u001b[38;5;241m=\u001b[39m \u001b[38;5;28;43mmin\u001b[39;49m\u001b[43m(\u001b[49m\u001b[43mlight_vals\u001b[49m\u001b[43m)\u001b[49m \u001b[38;5;241m*\u001b[39m \u001b[38;5;241m.6\u001b[39m\n\u001b[1;32m    708\u001b[0m gray \u001b[38;5;241m=\u001b[39m mpl\u001b[38;5;241m.\u001b[39mcolors\u001b[38;5;241m.\u001b[39mrgb2hex((lum, lum, lum))\n\u001b[1;32m    710\u001b[0m \u001b[38;5;66;03m# Assign object attributes\u001b[39;00m\n",
      "\u001b[0;31mValueError\u001b[0m: min() arg is an empty sequence"
     ]
    },
    {
     "data": {
      "text/plain": [
       "<Figure size 1200x600 with 0 Axes>"
      ]
     },
     "metadata": {},
     "output_type": "display_data"
    },
    {
     "data": {
      "text/plain": [
       "<Figure size 1200x600 with 0 Axes>"
      ]
     },
     "metadata": {},
     "output_type": "display_data"
    }
   ],
   "source": [
    "import seaborn as sns\n",
    "import matplotlib.pyplot as plt\n",
    "\n",
    "def plot_distances_by_alias_violin(df, alias_dict):\n",
    "    \"\"\"\n",
    "    Plots the distribution of distances by alias based on the specified columns in the DataFrame.\n",
    "\n",
    "    Parameters:\n",
    "    df (pd.DataFrame): The DataFrame containing distance data.\n",
    "    alias_dict (dict): A dictionary where keys are aliases, and values are the corresponding column names for distances.\n",
    "\n",
    "    Returns:\n",
    "    None: Displays the violin plot.\n",
    "    \"\"\"\n",
    "    plt.figure(figsize=(12, 6))\n",
    "    \n",
    "    # Prepare the data for plotting\n",
    "    plot_data = []\n",
    "    labels = []\n",
    "\n",
    "    # Loop through the dictionary\n",
    "    for alias, column_name in alias_dict.items():\n",
    "        # Check if the column exists in the DataFrame\n",
    "        if column_name not in df.columns:\n",
    "            print(f\"Error: Column '{column_name}' not found in the DataFrame.\")\n",
    "            continue\n",
    "        \n",
    "        # Extract the distances, dropping NaN values\n",
    "        distances = df[column_name].dropna()\n",
    "\n",
    "        # Add the distances and the alias to the plot data\n",
    "        plot_data.extend(distances)\n",
    "        labels.extend([alias] * len(distances))  # Repeat the alias label for each distance value\n",
    "\n",
    "    # Create a new DataFrame for the plotting data\n",
    "    plot_df = pd.DataFrame({\n",
    "        'Alias': labels,\n",
    "        'Distance': plot_data\n",
    "    })\n",
    "\n",
    "    # Plot a violin plot for the distances by alias\n",
    "    plt.figure(figsize=(12, 6))\n",
    "    sns.violinplot(x='Alias', y='Distance', data=plot_df, inner='box', cut=0)\n",
    "    plt.title('Distribution of Distances in the Selectivity Filter (all)')\n",
    "    plt.xlabel('Alias')\n",
    "    plt.ylabel('Distance (Å)')\n",
    "    plt.grid(True)\n",
    "    \n",
    "    # Move the legend outside the plot (if needed)\n",
    "    plt.xticks(rotation=45, ha='right')  # Rotate x-axis labels for readability\n",
    "    plt.tight_layout()\n",
    "    plt.show()\n",
    "\n",
    "# Example usage\n",
    "alias_dict = {\n",
    "    'Distancia (GLU252-GLU595)': 'CA_GLU252_CA-GLU595',\n",
    "    'Distancia (GLU252-GLU1024)': 'CA_GLU252_CA-GLU1024',\n",
    "    'Distancia (GLU252-GLU1353)': 'CA_GLU252_CA-GLU1353',\n",
    "    'Distancia (GLU595-GLU1024)': 'CA_GLU595_CA-GLU1024_CA',\n",
    "    'Distancia (GLU595-GLU1353)': 'CA_GLU595_CA-GLU1353_CA',\n",
    "    'Distancia (GLU1024-GLU1353)': 'CA_GLU102_CA-GLU1353_CA',\n",
    "}\n",
    "\n",
    "# Assuming df is already loaded with your CSV file\n",
    "plot_distances_by_alias_violin(df, alias_dict)\n"
   ]
  },
  {
   "cell_type": "code",
   "execution_count": null,
   "id": "3df8801a",
   "metadata": {},
   "outputs": [],
   "source": []
  }
 ],
 "metadata": {
  "kernelspec": {
   "display_name": "Python 3 (ipykernel)",
   "language": "python",
   "name": "python3"
  },
  "language_info": {
   "codemirror_mode": {
    "name": "ipython",
    "version": 3
   },
   "file_extension": ".py",
   "mimetype": "text/x-python",
   "name": "python",
   "nbconvert_exporter": "python",
   "pygments_lexer": "ipython3",
   "version": "3.10.9"
  }
 },
 "nbformat": 4,
 "nbformat_minor": 5
}
